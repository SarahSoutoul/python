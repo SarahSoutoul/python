{
 "cells": [
  {
   "cell_type": "code",
   "execution_count": 2,
   "metadata": {},
   "outputs": [],
   "source": [
    "bucket = \"bananas\""
   ]
  },
  {
   "cell_type": "code",
   "execution_count": 3,
   "metadata": {},
   "outputs": [],
   "source": [
    "box = \"tomatoes\""
   ]
  },
  {
   "cell_type": "code",
   "execution_count": 4,
   "metadata": {},
   "outputs": [],
   "source": [
    "container = \"oranges\""
   ]
  },
  {
   "cell_type": "code",
   "execution_count": 5,
   "metadata": {},
   "outputs": [],
   "source": [
    "holder = \"carrots\""
   ]
  },
  {
   "cell_type": "code",
   "execution_count": 6,
   "metadata": {},
   "outputs": [],
   "source": [
    "capsule = \"raspberries\""
   ]
  },
  {
   "cell_type": "code",
   "execution_count": 7,
   "metadata": {},
   "outputs": [
    {
     "name": "stdout",
     "output_type": "stream",
     "text": [
      "The bucket contains bananas\n"
     ]
    }
   ],
   "source": [
    "print \"The bucket contains \" + bucket"
   ]
  },
  {
   "cell_type": "code",
   "execution_count": 8,
   "metadata": {},
   "outputs": [
    {
     "name": "stdout",
     "output_type": "stream",
     "text": [
      "The box contains tomatoes\n"
     ]
    }
   ],
   "source": [
    "print \"The box contains \" + box"
   ]
  },
  {
   "cell_type": "code",
   "execution_count": 9,
   "metadata": {},
   "outputs": [
    {
     "name": "stdout",
     "output_type": "stream",
     "text": [
      "The container contains oranges\n"
     ]
    }
   ],
   "source": [
    "print \"The container contains \" + container"
   ]
  },
  {
   "cell_type": "code",
   "execution_count": 10,
   "metadata": {},
   "outputs": [
    {
     "name": "stdout",
     "output_type": "stream",
     "text": [
      "The holder contains carrots\n"
     ]
    }
   ],
   "source": [
    "print \"The holder contains \" + holder"
   ]
  },
  {
   "cell_type": "code",
   "execution_count": 11,
   "metadata": {},
   "outputs": [
    {
     "name": "stdout",
     "output_type": "stream",
     "text": [
      "The capsule contains raspberries\n"
     ]
    }
   ],
   "source": [
    "print \"The capsule contains \" + capsule"
   ]
  },
  {
   "cell_type": "code",
   "execution_count": 12,
   "metadata": {},
   "outputs": [],
   "source": [
    "sentence = \"Klavan said that producers have \\\"called my agent asking,'Why would you represent this guy?'Anything that lowers your odds is going to hurt.\\\"\""
   ]
  },
  {
   "cell_type": "code",
   "execution_count": 13,
   "metadata": {},
   "outputs": [
    {
     "name": "stdout",
     "output_type": "stream",
     "text": [
      "Klavan said that producers have \"called my agent asking,'Why would you represent this guy?'Anything that lowers your odds is going to hurt.\"\n"
     ]
    }
   ],
   "source": [
    "print sentence"
   ]
  },
  {
   "cell_type": "code",
   "execution_count": 14,
   "metadata": {},
   "outputs": [],
   "source": [
    "presidents = [\"George W. Bush\", \"Dwight Eisenhower\", \"Barack Obama\", \"Donald Trump\",\"Bill Clinton\", \"Ronald Reagan\"]"
   ]
  },
  {
   "cell_type": "code",
   "execution_count": 15,
   "metadata": {},
   "outputs": [
    {
     "name": "stdout",
     "output_type": "stream",
     "text": [
      "['George W. Bush', 'Dwight Eisenhower', 'Barack Obama', 'Donald Trump', 'Bill Clinton', 'Ronald Reagan']\n"
     ]
    }
   ],
   "source": [
    "print presidents"
   ]
  },
  {
   "cell_type": "code",
   "execution_count": 6,
   "metadata": {},
   "outputs": [
    {
     "name": "stdout",
     "output_type": "stream",
     "text": [
      "Barack Obama\n"
     ]
    }
   ],
   "source": [
    "print presidents[2]"
   ]
  },
  {
   "cell_type": "code",
   "execution_count": 7,
   "metadata": {},
   "outputs": [],
   "source": [
    "birthyears = [1946, 1890, 1961, 1946, 1946, 1911]"
   ]
  },
  {
   "cell_type": "code",
   "execution_count": 8,
   "metadata": {},
   "outputs": [
    {
     "name": "stdout",
     "output_type": "stream",
     "text": [
      "[1946, 1890, 1961, 1946, 1946, 1911]\n"
     ]
    }
   ],
   "source": [
    "print birthyears"
   ]
  },
  {
   "cell_type": "code",
   "execution_count": 9,
   "metadata": {},
   "outputs": [
    {
     "name": "stdout",
     "output_type": "stream",
     "text": [
      "1911\n"
     ]
    }
   ],
   "source": [
    "print birthyears[-1]"
   ]
  },
  {
   "cell_type": "code",
   "execution_count": 10,
   "metadata": {},
   "outputs": [],
   "source": [
    "pData = {\n",
    "        \"George W. Bush\" : 1946,\n",
    "        \"Dwight Eisenhower\" : 1890,\n",
    "        \"Barack Obama\" : 1961,\n",
    "        \"Donald Trump\" : 1946,\n",
    "        \"Bill Clinton\" : 1946,\n",
    "        \"Ronald Reagan\" : 1911\n",
    "}\n"
   ]
  },
  {
   "cell_type": "code",
   "execution_count": 11,
   "metadata": {},
   "outputs": [
    {
     "name": "stdout",
     "output_type": "stream",
     "text": [
      "{'Bill Clinton': 1946, 'Donald Trump': 1946, 'George W. Bush': 1946, 'Barack Obama': 1961, 'Dwight Eisenhower': 1890, 'Ronald Reagan': 1911}\n"
     ]
    }
   ],
   "source": [
    "print pData"
   ]
  }
 ],
 "metadata": {
  "kernelspec": {
   "display_name": "Python 2",
   "language": "python",
   "name": "python2"
  },
  "language_info": {
   "codemirror_mode": {
    "name": "ipython",
    "version": 2
   },
   "file_extension": ".py",
   "mimetype": "text/x-python",
   "name": "python",
   "nbconvert_exporter": "python",
   "pygments_lexer": "ipython2",
   "version": "2.7.14"
  }
 },
 "nbformat": 4,
 "nbformat_minor": 2
}
